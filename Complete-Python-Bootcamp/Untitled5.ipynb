{
 "cells": [
  {
   "cell_type": "code",
   "execution_count": 49,
   "metadata": {
    "collapsed": false
   },
   "outputs": [
    {
     "data": {
      "text/plain": [
       "100"
      ]
     },
     "execution_count": 49,
     "metadata": {},
     "output_type": "execute_result"
    }
   ],
   "source": [
    "l = [1,2,3,4,5,6]\n",
    "l = range(1,101)\n",
    "len(l)"
   ]
  },
  {
   "cell_type": "code",
   "execution_count": 50,
   "metadata": {
    "collapsed": false
   },
   "outputs": [
    {
     "data": {
      "text/plain": [
       "93326215443944152681699238856266700490715968264381621468592963895217599993229915608941463976156518286253697920827223758251185210916864000000000000000000000000L"
      ]
     },
     "execution_count": 50,
     "metadata": {},
     "output_type": "execute_result"
    }
   ],
   "source": [
    "reduce(lambda x,y: x*y, l)"
   ]
  },
  {
   "cell_type": "code",
   "execution_count": 51,
   "metadata": {
    "collapsed": false
   },
   "outputs": [
    {
     "data": {
      "text/plain": [
       "5050"
      ]
     },
     "execution_count": 51,
     "metadata": {},
     "output_type": "execute_result"
    }
   ],
   "source": [
    "reduce(lambda x,y: x+y, l)"
   ]
  },
  {
   "cell_type": "code",
   "execution_count": 52,
   "metadata": {
    "collapsed": false
   },
   "outputs": [
    {
     "data": {
      "text/plain": [
       "9.66054943799493e+78"
      ]
     },
     "execution_count": 52,
     "metadata": {},
     "output_type": "execute_result"
    }
   ],
   "source": [
    "from math import sqrt\n",
    "import scipy\n",
    "sqrt(reduce(lambda x,y: x*y, l))"
   ]
  },
  {
   "cell_type": "code",
   "execution_count": 53,
   "metadata": {
    "collapsed": false
   },
   "outputs": [
    {
     "data": {
      "text/plain": [
       "50.5"
      ]
     },
     "execution_count": 53,
     "metadata": {},
     "output_type": "execute_result"
    }
   ],
   "source": [
    "scipy.median(l)"
   ]
  },
  {
   "cell_type": "code",
   "execution_count": 54,
   "metadata": {
    "collapsed": false
   },
   "outputs": [
    {
     "data": {
      "text/plain": [
       "50.5"
      ]
     },
     "execution_count": 54,
     "metadata": {},
     "output_type": "execute_result"
    }
   ],
   "source": [
    "scipy.mean(l)"
   ]
  },
  {
   "cell_type": "code",
   "execution_count": 55,
   "metadata": {
    "collapsed": false
   },
   "outputs": [
    {
     "data": {
      "text/plain": [
       "28.86607004772212"
      ]
     },
     "execution_count": 55,
     "metadata": {},
     "output_type": "execute_result"
    }
   ],
   "source": [
    "sqrt(scipy.var(l))"
   ]
  },
  {
   "cell_type": "code",
   "execution_count": 56,
   "metadata": {
    "collapsed": false
   },
   "outputs": [
    {
     "data": {
      "text/plain": [
       "28.86607004772212"
      ]
     },
     "execution_count": 56,
     "metadata": {},
     "output_type": "execute_result"
    }
   ],
   "source": [
    "sqrddevs = map(lambda x: (x - scipy.mean(l))**2, l)\n",
    "stddev = sqrt(reduce(lambda x,y: x+y, sqrddevs) / len(l))\n",
    "stddev"
   ]
  },
  {
   "cell_type": "code",
   "execution_count": 42,
   "metadata": {
    "collapsed": false
   },
   "outputs": [
    {
     "data": {
      "text/plain": [
       "1.707825127659933"
      ]
     },
     "execution_count": 42,
     "metadata": {},
     "output_type": "execute_result"
    }
   ],
   "source": [
    "sqrt(scipy.var(l))"
   ]
  },
  {
   "cell_type": "code",
   "execution_count": 43,
   "metadata": {
    "collapsed": false
   },
   "outputs": [
    {
     "data": {
      "text/plain": [
       "[2, 4, 6]"
      ]
     },
     "execution_count": 43,
     "metadata": {},
     "output_type": "execute_result"
    }
   ],
   "source": [
    "filter(lambda x: x % 2 == 0, l)"
   ]
  },
  {
   "cell_type": "code",
   "execution_count": 57,
   "metadata": {
    "collapsed": false
   },
   "outputs": [
    {
     "data": {
      "text/plain": [
       "[1,\n",
       " 3,\n",
       " 5,\n",
       " 7,\n",
       " 9,\n",
       " 11,\n",
       " 13,\n",
       " 15,\n",
       " 17,\n",
       " 19,\n",
       " 21,\n",
       " 23,\n",
       " 25,\n",
       " 27,\n",
       " 29,\n",
       " 31,\n",
       " 33,\n",
       " 35,\n",
       " 37,\n",
       " 39,\n",
       " 41,\n",
       " 43,\n",
       " 45,\n",
       " 47,\n",
       " 49,\n",
       " 51,\n",
       " 53,\n",
       " 55,\n",
       " 57,\n",
       " 59,\n",
       " 61,\n",
       " 63,\n",
       " 65,\n",
       " 67,\n",
       " 69,\n",
       " 71,\n",
       " 73,\n",
       " 75,\n",
       " 77,\n",
       " 79,\n",
       " 81,\n",
       " 83,\n",
       " 85,\n",
       " 87,\n",
       " 89,\n",
       " 91,\n",
       " 93,\n",
       " 95,\n",
       " 97,\n",
       " 99]"
      ]
     },
     "execution_count": 57,
     "metadata": {},
     "output_type": "execute_result"
    }
   ],
   "source": [
    "odd_check = lambda x: x % 2 != 0\n",
    "filter(odd_check, l)"
   ]
  },
  {
   "cell_type": "code",
   "execution_count": 60,
   "metadata": {
    "collapsed": false
   },
   "outputs": [
    {
     "name": "stdout",
     "output_type": "stream",
     "text": [
      "1.  1\n",
      "2.  2\n",
      "3.  3\n",
      "4.  4\n",
      "5.  5\n",
      "6.  6\n",
      "7.  7\n",
      "8.  8\n",
      "9.  9\n",
      "10.  10\n",
      "11.  11\n",
      "12.  12\n",
      "13.  13\n",
      "14.  14\n",
      "15.  15\n",
      "16.  16\n",
      "17.  17\n",
      "18.  18\n",
      "19.  19\n",
      "20.  20\n",
      "21.  21\n",
      "22.  22\n",
      "23.  23\n",
      "24.  24\n",
      "25.  25\n",
      "26.  26\n",
      "27.  27\n",
      "28.  28\n",
      "29.  29\n",
      "30.  30\n",
      "31.  31\n",
      "32.  32\n",
      "33.  33\n",
      "34.  34\n",
      "35.  35\n",
      "36.  36\n",
      "37.  37\n",
      "38.  38\n",
      "39.  39\n",
      "40.  40\n",
      "41.  41\n",
      "42.  42\n",
      "43.  43\n",
      "44.  44\n",
      "45.  45\n",
      "46.  46\n",
      "47.  47\n",
      "48.  48\n",
      "49.  49\n",
      "50.  50\n",
      "51.  51\n",
      "52.  52\n",
      "53.  53\n",
      "54.  54\n",
      "55.  55\n",
      "56.  56\n",
      "57.  57\n",
      "58.  58\n",
      "59.  59\n",
      "60.  60\n",
      "61.  61\n",
      "62.  62\n",
      "63.  63\n",
      "64.  64\n",
      "65.  65\n",
      "66.  66\n",
      "67.  67\n",
      "68.  68\n",
      "69.  69\n",
      "70.  70\n",
      "71.  71\n",
      "72.  72\n",
      "73.  73\n",
      "74.  74\n",
      "75.  75\n",
      "76.  76\n",
      "77.  77\n",
      "78.  78\n",
      "79.  79\n",
      "80.  80\n",
      "81.  81\n",
      "82.  82\n",
      "83.  83\n",
      "84.  84\n",
      "85.  85\n",
      "86.  86\n",
      "87.  87\n",
      "88.  88\n",
      "89.  89\n",
      "90.  90\n",
      "91.  91\n",
      "92.  92\n",
      "93.  93\n",
      "94.  94\n",
      "95.  95\n",
      "96.  96\n",
      "97.  97\n",
      "98.  98\n",
      "99.  99\n",
      "100.  100\n"
     ]
    }
   ],
   "source": [
    "for count,item in enumerate(l):\n",
    "    print '%d.  %d' % (count + 1, item)"
   ]
  },
  {
   "cell_type": "code",
   "execution_count": 63,
   "metadata": {
    "collapsed": false
   },
   "outputs": [
    {
     "data": {
      "text/plain": [
       "False"
      ]
     },
     "execution_count": 63,
     "metadata": {},
     "output_type": "execute_result"
    }
   ],
   "source": [
    "bools = [True, False, True]\n",
    "all(bools)"
   ]
  },
  {
   "cell_type": "code",
   "execution_count": 65,
   "metadata": {
    "collapsed": false
   },
   "outputs": [
    {
     "data": {
      "text/plain": [
       "True"
      ]
     },
     "execution_count": 65,
     "metadata": {},
     "output_type": "execute_result"
    }
   ],
   "source": [
    "any(bools)"
   ]
  },
  {
   "cell_type": "code",
   "execution_count": 66,
   "metadata": {
    "collapsed": false
   },
   "outputs": [
    {
     "data": {
      "text/plain": [
       "(-2+23j)"
      ]
     },
     "execution_count": 66,
     "metadata": {},
     "output_type": "execute_result"
    }
   ],
   "source": [
    "x = complex(2,3)\n",
    "y = complex(5,4)\n",
    "x * y"
   ]
  }
 ],
 "metadata": {
  "kernelspec": {
   "display_name": "Python 2",
   "language": "python",
   "name": "python2"
  },
  "language_info": {
   "codemirror_mode": {
    "name": "ipython",
    "version": 2
   },
   "file_extension": ".py",
   "mimetype": "text/x-python",
   "name": "python",
   "nbconvert_exporter": "python",
   "pygments_lexer": "ipython2",
   "version": "2.7.11"
  }
 },
 "nbformat": 4,
 "nbformat_minor": 0
}
