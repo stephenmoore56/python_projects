{
 "cells": [
  {
   "cell_type": "code",
   "execution_count": null,
   "metadata": {
    "collapsed": false
   },
   "outputs": [],
   "source": [
    "try:\n",
    "    x = 2 + 'a'\n",
    "    print x\n",
    "except TypeError:\n",
    "    print 'A type error occurred.'\n",
    "finally:\n",
    "    print 'Program terminated.'"
   ]
  },
  {
   "cell_type": "code",
   "execution_count": null,
   "metadata": {
    "collapsed": false
   },
   "outputs": [],
   "source": [
    "try:\n",
    "    print 'Opening file'\n",
    "    f = open('testfile','w')\n",
    "    f.write('Test write')\n",
    "except IOError:\n",
    "    print 'Error writing to file'\n",
    "else:\n",
    "    print 'File write successful'\n",
    "finally:\n",
    "    print 'File closed'\n",
    "    f.close()\n",
    "    "
   ]
  },
  {
   "cell_type": "code",
   "execution_count": null,
   "metadata": {
    "collapsed": true
   },
   "outputs": [],
   "source": [
    "def askint():\n",
    "    try:\n",
    "        val = int(raw_input('Please enter an integer: '))\n",
    "    except:\n",
    "        print 'Did you enter an integer?'\n",
    "    else:\n",
    "        print val    \n",
    "    finally:\n",
    "        print 'Program terminated'\n",
    "    "
   ]
  },
  {
   "cell_type": "code",
   "execution_count": null,
   "metadata": {
    "collapsed": false
   },
   "outputs": [],
   "source": [
    "askint()"
   ]
  },
  {
   "cell_type": "code",
   "execution_count": 1,
   "metadata": {
    "collapsed": true
   },
   "outputs": [],
   "source": [
    "def askint2():\n",
    "    while True:\n",
    "        try:\n",
    "            val = int(raw_input('Please enter an integer: '))\n",
    "        except:\n",
    "            print 'Did you enter an integer?'\n",
    "            continue\n",
    "        else:\n",
    "            print val\n",
    "            break\n",
    "        finally:\n",
    "            print 'Finally....'"
   ]
  },
  {
   "cell_type": "code",
   "execution_count": 3,
   "metadata": {
    "collapsed": false
   },
   "outputs": [
    {
     "name": "stdout",
     "output_type": "stream",
     "text": [
      "Please enter an integer: tree\n",
      "Did you enter an integer?\n",
      "Finally....\n",
      "Please enter an integer: foo\n",
      "Did you enter an integer?\n",
      "Finally....\n",
      "Please enter an integer: 3\n",
      "3\n",
      "Finally....\n"
     ]
    }
   ],
   "source": [
    "askint2()"
   ]
  },
  {
   "cell_type": "code",
   "execution_count": null,
   "metadata": {
    "collapsed": true
   },
   "outputs": [],
   "source": []
  }
 ],
 "metadata": {
  "kernelspec": {
   "display_name": "Python 2",
   "language": "python",
   "name": "python2"
  },
  "language_info": {
   "codemirror_mode": {
    "name": "ipython",
    "version": 2
   },
   "file_extension": ".py",
   "mimetype": "text/x-python",
   "name": "python",
   "nbconvert_exporter": "python",
   "pygments_lexer": "ipython2",
   "version": "2.7.11"
  }
 },
 "nbformat": 4,
 "nbformat_minor": 0
}
