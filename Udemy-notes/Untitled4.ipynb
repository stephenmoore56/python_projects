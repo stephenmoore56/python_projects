{
 "cells": [
  {
   "cell_type": "code",
   "execution_count": 1,
   "metadata": {
    "collapsed": true
   },
   "outputs": [],
   "source": [
    "import numpy as np\n",
    "import pandas as pd\n",
    "from pandas import Series, DataFrame"
   ]
  },
  {
   "cell_type": "code",
   "execution_count": 7,
   "metadata": {
    "collapsed": false
   },
   "outputs": [
    {
     "data": {
      "text/plain": [
       "A    0\n",
       "B    1\n",
       "C    2\n",
       "D    3\n",
       "dtype: int64"
      ]
     },
     "execution_count": 7,
     "metadata": {},
     "output_type": "execute_result"
    }
   ],
   "source": [
    "ser1 = Series([x for x in range(4)],index = ['A','B','C','D'])\n",
    "ser1"
   ]
  },
  {
   "cell_type": "code",
   "execution_count": 9,
   "metadata": {
    "collapsed": false
   },
   "outputs": [
    {
     "data": {
      "text/plain": [
       "A     0\n",
       "B     1\n",
       "C     2\n",
       "D     3\n",
       "E   NaN\n",
       "F   NaN\n",
       "dtype: float64"
      ]
     },
     "execution_count": 9,
     "metadata": {},
     "output_type": "execute_result"
    }
   ],
   "source": [
    "ser2 = ser1.reindex(['A','B','C','D','E','F'])\n",
    "ser2"
   ]
  },
  {
   "cell_type": "code",
   "execution_count": 14,
   "metadata": {
    "collapsed": false
   },
   "outputs": [
    {
     "data": {
      "text/plain": [
       "A     0\n",
       "B     1\n",
       "C     2\n",
       "D     3\n",
       "E   NaN\n",
       "F   NaN\n",
       "G     0\n",
       "dtype: float64"
      ]
     },
     "execution_count": 14,
     "metadata": {},
     "output_type": "execute_result"
    }
   ],
   "source": [
    "serri = ser2.reindex(['A','B','C','D','E','F','G'], fill_value=0)\n",
    "serri"
   ]
  },
  {
   "cell_type": "code",
   "execution_count": 15,
   "metadata": {
    "collapsed": false
   },
   "outputs": [
    {
     "data": {
      "text/plain": [
       "0        USA\n",
       "5     Mexico\n",
       "10    Canada\n",
       "dtype: object"
      ]
     },
     "execution_count": 15,
     "metadata": {},
     "output_type": "execute_result"
    }
   ],
   "source": [
    "ser3 = Series(['USA','Mexico','Canada'],index=[0,5,10])\n",
    "ser3"
   ]
  },
  {
   "cell_type": "code",
   "execution_count": 17,
   "metadata": {
    "collapsed": false
   },
   "outputs": [
    {
     "data": {
      "text/plain": [
       "0        USA\n",
       "1        USA\n",
       "2        USA\n",
       "3        USA\n",
       "4        USA\n",
       "5     Mexico\n",
       "6     Mexico\n",
       "7     Mexico\n",
       "8     Mexico\n",
       "9     Mexico\n",
       "10    Canada\n",
       "11    Canada\n",
       "12    Canada\n",
       "13    Canada\n",
       "14    Canada\n",
       "dtype: object"
      ]
     },
     "execution_count": 17,
     "metadata": {},
     "output_type": "execute_result"
    }
   ],
   "source": [
    "ser3.reindex(range(15),method='ffill')"
   ]
  },
  {
   "cell_type": "code",
   "execution_count": 19,
   "metadata": {
    "collapsed": false
   },
   "outputs": [
    {
     "data": {
      "text/html": [
       "<div>\n",
       "<table border=\"1\" class=\"dataframe\">\n",
       "  <thead>\n",
       "    <tr style=\"text-align: right;\">\n",
       "      <th></th>\n",
       "      <th>col1</th>\n",
       "      <th>col2</th>\n",
       "      <th>col3</th>\n",
       "      <th>col4</th>\n",
       "      <th>col5</th>\n",
       "    </tr>\n",
       "  </thead>\n",
       "  <tbody>\n",
       "    <tr>\n",
       "      <th>A</th>\n",
       "      <td>0.230949</td>\n",
       "      <td>1.245616</td>\n",
       "      <td>0.487123</td>\n",
       "      <td>1.725553</td>\n",
       "      <td>1.065221</td>\n",
       "    </tr>\n",
       "    <tr>\n",
       "      <th>B</th>\n",
       "      <td>-1.857783</td>\n",
       "      <td>0.436027</td>\n",
       "      <td>0.518917</td>\n",
       "      <td>-0.382764</td>\n",
       "      <td>0.693706</td>\n",
       "    </tr>\n",
       "    <tr>\n",
       "      <th>D</th>\n",
       "      <td>-0.321735</td>\n",
       "      <td>0.683607</td>\n",
       "      <td>-1.174434</td>\n",
       "      <td>-1.538678</td>\n",
       "      <td>-0.591216</td>\n",
       "    </tr>\n",
       "    <tr>\n",
       "      <th>E</th>\n",
       "      <td>1.958044</td>\n",
       "      <td>0.686554</td>\n",
       "      <td>0.490409</td>\n",
       "      <td>-0.140146</td>\n",
       "      <td>-0.459870</td>\n",
       "    </tr>\n",
       "    <tr>\n",
       "      <th>F</th>\n",
       "      <td>-1.116598</td>\n",
       "      <td>1.370497</td>\n",
       "      <td>0.611078</td>\n",
       "      <td>-0.131517</td>\n",
       "      <td>-1.696741</td>\n",
       "    </tr>\n",
       "  </tbody>\n",
       "</table>\n",
       "</div>"
      ],
      "text/plain": [
       "       col1      col2      col3      col4      col5\n",
       "A  0.230949  1.245616  0.487123  1.725553  1.065221\n",
       "B -1.857783  0.436027  0.518917 -0.382764  0.693706\n",
       "D -0.321735  0.683607 -1.174434 -1.538678 -0.591216\n",
       "E  1.958044  0.686554  0.490409 -0.140146 -0.459870\n",
       "F -1.116598  1.370497  0.611078 -0.131517 -1.696741"
      ]
     },
     "execution_count": 19,
     "metadata": {},
     "output_type": "execute_result"
    }
   ],
   "source": [
    "dframe = DataFrame(np.random.randn(25).reshape((5,5)),\n",
    "                   index=['A','B','D','E','F'],\n",
    "                   columns=['col1','col2','col3','col4','col5'])\n",
    "dframe"
   ]
  },
  {
   "cell_type": "code",
   "execution_count": 22,
   "metadata": {
    "collapsed": false
   },
   "outputs": [
    {
     "data": {
      "text/html": [
       "<div>\n",
       "<table border=\"1\" class=\"dataframe\">\n",
       "  <thead>\n",
       "    <tr style=\"text-align: right;\">\n",
       "      <th></th>\n",
       "      <th>col1</th>\n",
       "      <th>col2</th>\n",
       "      <th>col3</th>\n",
       "      <th>col4</th>\n",
       "      <th>col5</th>\n",
       "    </tr>\n",
       "  </thead>\n",
       "  <tbody>\n",
       "    <tr>\n",
       "      <th>A</th>\n",
       "      <td>0.230949</td>\n",
       "      <td>1.245616</td>\n",
       "      <td>0.487123</td>\n",
       "      <td>1.725553</td>\n",
       "      <td>1.065221</td>\n",
       "    </tr>\n",
       "    <tr>\n",
       "      <th>B</th>\n",
       "      <td>-1.857783</td>\n",
       "      <td>0.436027</td>\n",
       "      <td>0.518917</td>\n",
       "      <td>-0.382764</td>\n",
       "      <td>0.693706</td>\n",
       "    </tr>\n",
       "    <tr>\n",
       "      <th>C</th>\n",
       "      <td>NaN</td>\n",
       "      <td>NaN</td>\n",
       "      <td>NaN</td>\n",
       "      <td>NaN</td>\n",
       "      <td>NaN</td>\n",
       "    </tr>\n",
       "    <tr>\n",
       "      <th>D</th>\n",
       "      <td>-0.321735</td>\n",
       "      <td>0.683607</td>\n",
       "      <td>-1.174434</td>\n",
       "      <td>-1.538678</td>\n",
       "      <td>-0.591216</td>\n",
       "    </tr>\n",
       "    <tr>\n",
       "      <th>E</th>\n",
       "      <td>1.958044</td>\n",
       "      <td>0.686554</td>\n",
       "      <td>0.490409</td>\n",
       "      <td>-0.140146</td>\n",
       "      <td>-0.459870</td>\n",
       "    </tr>\n",
       "    <tr>\n",
       "      <th>F</th>\n",
       "      <td>-1.116598</td>\n",
       "      <td>1.370497</td>\n",
       "      <td>0.611078</td>\n",
       "      <td>-0.131517</td>\n",
       "      <td>-1.696741</td>\n",
       "    </tr>\n",
       "  </tbody>\n",
       "</table>\n",
       "</div>"
      ],
      "text/plain": [
       "       col1      col2      col3      col4      col5\n",
       "A  0.230949  1.245616  0.487123  1.725553  1.065221\n",
       "B -1.857783  0.436027  0.518917 -0.382764  0.693706\n",
       "C       NaN       NaN       NaN       NaN       NaN\n",
       "D -0.321735  0.683607 -1.174434 -1.538678 -0.591216\n",
       "E  1.958044  0.686554  0.490409 -0.140146 -0.459870\n",
       "F -1.116598  1.370497  0.611078 -0.131517 -1.696741"
      ]
     },
     "execution_count": 22,
     "metadata": {},
     "output_type": "execute_result"
    }
   ],
   "source": [
    "dframe2 = dframe.reindex(['A','B','C','D','E','F'])\n",
    "dframe2"
   ]
  },
  {
   "cell_type": "code",
   "execution_count": 23,
   "metadata": {
    "collapsed": false
   },
   "outputs": [
    {
     "data": {
      "text/plain": [
       "['col1', 'col2', 'col3', 'col4', 'col5', 'col6']"
      ]
     },
     "execution_count": 23,
     "metadata": {},
     "output_type": "execute_result"
    }
   ],
   "source": [
    "new_columns = ['col1','col2','col3','col4','col5','col6']\n",
    "new_columns"
   ]
  },
  {
   "cell_type": "code",
   "execution_count": 24,
   "metadata": {
    "collapsed": false
   },
   "outputs": [
    {
     "data": {
      "text/html": [
       "<div>\n",
       "<table border=\"1\" class=\"dataframe\">\n",
       "  <thead>\n",
       "    <tr style=\"text-align: right;\">\n",
       "      <th></th>\n",
       "      <th>col1</th>\n",
       "      <th>col2</th>\n",
       "      <th>col3</th>\n",
       "      <th>col4</th>\n",
       "      <th>col5</th>\n",
       "      <th>col6</th>\n",
       "    </tr>\n",
       "  </thead>\n",
       "  <tbody>\n",
       "    <tr>\n",
       "      <th>A</th>\n",
       "      <td>0.230949</td>\n",
       "      <td>1.245616</td>\n",
       "      <td>0.487123</td>\n",
       "      <td>1.725553</td>\n",
       "      <td>1.065221</td>\n",
       "      <td>NaN</td>\n",
       "    </tr>\n",
       "    <tr>\n",
       "      <th>B</th>\n",
       "      <td>-1.857783</td>\n",
       "      <td>0.436027</td>\n",
       "      <td>0.518917</td>\n",
       "      <td>-0.382764</td>\n",
       "      <td>0.693706</td>\n",
       "      <td>NaN</td>\n",
       "    </tr>\n",
       "    <tr>\n",
       "      <th>C</th>\n",
       "      <td>NaN</td>\n",
       "      <td>NaN</td>\n",
       "      <td>NaN</td>\n",
       "      <td>NaN</td>\n",
       "      <td>NaN</td>\n",
       "      <td>NaN</td>\n",
       "    </tr>\n",
       "    <tr>\n",
       "      <th>D</th>\n",
       "      <td>-0.321735</td>\n",
       "      <td>0.683607</td>\n",
       "      <td>-1.174434</td>\n",
       "      <td>-1.538678</td>\n",
       "      <td>-0.591216</td>\n",
       "      <td>NaN</td>\n",
       "    </tr>\n",
       "    <tr>\n",
       "      <th>E</th>\n",
       "      <td>1.958044</td>\n",
       "      <td>0.686554</td>\n",
       "      <td>0.490409</td>\n",
       "      <td>-0.140146</td>\n",
       "      <td>-0.459870</td>\n",
       "      <td>NaN</td>\n",
       "    </tr>\n",
       "    <tr>\n",
       "      <th>F</th>\n",
       "      <td>-1.116598</td>\n",
       "      <td>1.370497</td>\n",
       "      <td>0.611078</td>\n",
       "      <td>-0.131517</td>\n",
       "      <td>-1.696741</td>\n",
       "      <td>NaN</td>\n",
       "    </tr>\n",
       "  </tbody>\n",
       "</table>\n",
       "</div>"
      ],
      "text/plain": [
       "       col1      col2      col3      col4      col5  col6\n",
       "A  0.230949  1.245616  0.487123  1.725553  1.065221   NaN\n",
       "B -1.857783  0.436027  0.518917 -0.382764  0.693706   NaN\n",
       "C       NaN       NaN       NaN       NaN       NaN   NaN\n",
       "D -0.321735  0.683607 -1.174434 -1.538678 -0.591216   NaN\n",
       "E  1.958044  0.686554  0.490409 -0.140146 -0.459870   NaN\n",
       "F -1.116598  1.370497  0.611078 -0.131517 -1.696741   NaN"
      ]
     },
     "execution_count": 24,
     "metadata": {},
     "output_type": "execute_result"
    }
   ],
   "source": [
    "dframe2.reindex(columns=new_columns)"
   ]
  },
  {
   "cell_type": "code",
   "execution_count": 25,
   "metadata": {
    "collapsed": false
   },
   "outputs": [
    {
     "data": {
      "text/html": [
       "<div>\n",
       "<table border=\"1\" class=\"dataframe\">\n",
       "  <thead>\n",
       "    <tr style=\"text-align: right;\">\n",
       "      <th></th>\n",
       "      <th>col1</th>\n",
       "      <th>col2</th>\n",
       "      <th>col3</th>\n",
       "      <th>col4</th>\n",
       "      <th>col5</th>\n",
       "    </tr>\n",
       "  </thead>\n",
       "  <tbody>\n",
       "    <tr>\n",
       "      <th>A</th>\n",
       "      <td>0.230949</td>\n",
       "      <td>1.245616</td>\n",
       "      <td>0.487123</td>\n",
       "      <td>1.725553</td>\n",
       "      <td>1.065221</td>\n",
       "    </tr>\n",
       "    <tr>\n",
       "      <th>B</th>\n",
       "      <td>-1.857783</td>\n",
       "      <td>0.436027</td>\n",
       "      <td>0.518917</td>\n",
       "      <td>-0.382764</td>\n",
       "      <td>0.693706</td>\n",
       "    </tr>\n",
       "    <tr>\n",
       "      <th>D</th>\n",
       "      <td>-0.321735</td>\n",
       "      <td>0.683607</td>\n",
       "      <td>-1.174434</td>\n",
       "      <td>-1.538678</td>\n",
       "      <td>-0.591216</td>\n",
       "    </tr>\n",
       "    <tr>\n",
       "      <th>E</th>\n",
       "      <td>1.958044</td>\n",
       "      <td>0.686554</td>\n",
       "      <td>0.490409</td>\n",
       "      <td>-0.140146</td>\n",
       "      <td>-0.459870</td>\n",
       "    </tr>\n",
       "    <tr>\n",
       "      <th>F</th>\n",
       "      <td>-1.116598</td>\n",
       "      <td>1.370497</td>\n",
       "      <td>0.611078</td>\n",
       "      <td>-0.131517</td>\n",
       "      <td>-1.696741</td>\n",
       "    </tr>\n",
       "  </tbody>\n",
       "</table>\n",
       "</div>"
      ],
      "text/plain": [
       "       col1      col2      col3      col4      col5\n",
       "A  0.230949  1.245616  0.487123  1.725553  1.065221\n",
       "B -1.857783  0.436027  0.518917 -0.382764  0.693706\n",
       "D -0.321735  0.683607 -1.174434 -1.538678 -0.591216\n",
       "E  1.958044  0.686554  0.490409 -0.140146 -0.459870\n",
       "F -1.116598  1.370497  0.611078 -0.131517 -1.696741"
      ]
     },
     "execution_count": 25,
     "metadata": {},
     "output_type": "execute_result"
    }
   ],
   "source": [
    "dframe"
   ]
  },
  {
   "cell_type": "code",
   "execution_count": 26,
   "metadata": {
    "collapsed": false
   },
   "outputs": [
    {
     "data": {
      "text/html": [
       "<div>\n",
       "<table border=\"1\" class=\"dataframe\">\n",
       "  <thead>\n",
       "    <tr style=\"text-align: right;\">\n",
       "      <th></th>\n",
       "      <th>col1</th>\n",
       "      <th>col2</th>\n",
       "      <th>col3</th>\n",
       "      <th>col4</th>\n",
       "      <th>col5</th>\n",
       "      <th>col6</th>\n",
       "    </tr>\n",
       "  </thead>\n",
       "  <tbody>\n",
       "    <tr>\n",
       "      <th>A</th>\n",
       "      <td>0.230949</td>\n",
       "      <td>1.245616</td>\n",
       "      <td>0.487123</td>\n",
       "      <td>1.725553</td>\n",
       "      <td>1.065221</td>\n",
       "      <td>NaN</td>\n",
       "    </tr>\n",
       "    <tr>\n",
       "      <th>B</th>\n",
       "      <td>-1.857783</td>\n",
       "      <td>0.436027</td>\n",
       "      <td>0.518917</td>\n",
       "      <td>-0.382764</td>\n",
       "      <td>0.693706</td>\n",
       "      <td>NaN</td>\n",
       "    </tr>\n",
       "    <tr>\n",
       "      <th>C</th>\n",
       "      <td>NaN</td>\n",
       "      <td>NaN</td>\n",
       "      <td>NaN</td>\n",
       "      <td>NaN</td>\n",
       "      <td>NaN</td>\n",
       "      <td>NaN</td>\n",
       "    </tr>\n",
       "    <tr>\n",
       "      <th>D</th>\n",
       "      <td>-0.321735</td>\n",
       "      <td>0.683607</td>\n",
       "      <td>-1.174434</td>\n",
       "      <td>-1.538678</td>\n",
       "      <td>-0.591216</td>\n",
       "      <td>NaN</td>\n",
       "    </tr>\n",
       "    <tr>\n",
       "      <th>E</th>\n",
       "      <td>1.958044</td>\n",
       "      <td>0.686554</td>\n",
       "      <td>0.490409</td>\n",
       "      <td>-0.140146</td>\n",
       "      <td>-0.459870</td>\n",
       "      <td>NaN</td>\n",
       "    </tr>\n",
       "    <tr>\n",
       "      <th>F</th>\n",
       "      <td>-1.116598</td>\n",
       "      <td>1.370497</td>\n",
       "      <td>0.611078</td>\n",
       "      <td>-0.131517</td>\n",
       "      <td>-1.696741</td>\n",
       "      <td>NaN</td>\n",
       "    </tr>\n",
       "  </tbody>\n",
       "</table>\n",
       "</div>"
      ],
      "text/plain": [
       "       col1      col2      col3      col4      col5  col6\n",
       "A  0.230949  1.245616  0.487123  1.725553  1.065221   NaN\n",
       "B -1.857783  0.436027  0.518917 -0.382764  0.693706   NaN\n",
       "C       NaN       NaN       NaN       NaN       NaN   NaN\n",
       "D -0.321735  0.683607 -1.174434 -1.538678 -0.591216   NaN\n",
       "E  1.958044  0.686554  0.490409 -0.140146 -0.459870   NaN\n",
       "F -1.116598  1.370497  0.611078 -0.131517 -1.696741   NaN"
      ]
     },
     "execution_count": 26,
     "metadata": {},
     "output_type": "execute_result"
    }
   ],
   "source": [
    "dframe.ix[['A','B','C','D','E','F'],new_columns]"
   ]
  },
  {
   "cell_type": "code",
   "execution_count": null,
   "metadata": {
    "collapsed": true
   },
   "outputs": [],
   "source": []
  }
 ],
 "metadata": {
  "kernelspec": {
   "display_name": "Python 2",
   "language": "python",
   "name": "python2"
  },
  "language_info": {
   "codemirror_mode": {
    "name": "ipython",
    "version": 2
   },
   "file_extension": ".py",
   "mimetype": "text/x-python",
   "name": "python",
   "nbconvert_exporter": "python",
   "pygments_lexer": "ipython2",
   "version": "2.7.11"
  }
 },
 "nbformat": 4,
 "nbformat_minor": 0
}
