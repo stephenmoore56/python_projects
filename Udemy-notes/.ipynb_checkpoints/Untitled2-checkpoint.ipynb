{
 "cells": [
  {
   "cell_type": "code",
   "execution_count": 1,
   "metadata": {
    "collapsed": true
   },
   "outputs": [],
   "source": [
    "import numpy as np\n",
    "import pandas as pd\n",
    "from pandas import Series, DataFrame"
   ]
  },
  {
   "cell_type": "code",
   "execution_count": 2,
   "metadata": {
    "collapsed": false
   },
   "outputs": [
    {
     "data": {
      "text/plain": [
       "True"
      ]
     },
     "execution_count": 2,
     "metadata": {},
     "output_type": "execute_result"
    }
   ],
   "source": [
    "# web scrape some data\n",
    "import webbrowser\n",
    "website = 'http://en.wikipedia.org/wiki/NFL_win-loss_records'\n",
    "webbrowser.open(website)\n"
   ]
  },
  {
   "cell_type": "code",
   "execution_count": 12,
   "metadata": {
    "collapsed": false
   },
   "outputs": [
    {
     "data": {
      "text/html": [
       "<div>\n",
       "<table border=\"1\" class=\"dataframe\">\n",
       "  <thead>\n",
       "    <tr style=\"text-align: right;\">\n",
       "      <th></th>\n",
       "      <th>Rank</th>\n",
       "      <th>Team</th>\n",
       "      <th>Won</th>\n",
       "      <th>Lost</th>\n",
       "      <th>Tied*</th>\n",
       "      <th>Pct.</th>\n",
       "      <th>First Season</th>\n",
       "      <th>Total Games</th>\n",
       "      <th>Conference</th>\n",
       "    </tr>\n",
       "  </thead>\n",
       "  <tbody>\n",
       "    <tr>\n",
       "      <th>0</th>\n",
       "      <td>1</td>\n",
       "      <td>Green Bay Packers</td>\n",
       "      <td>751</td>\n",
       "      <td>567</td>\n",
       "      <td>37</td>\n",
       "      <td>0.568</td>\n",
       "      <td>1921</td>\n",
       "      <td>1355</td>\n",
       "      <td>NFC North</td>\n",
       "    </tr>\n",
       "    <tr>\n",
       "      <th>1</th>\n",
       "      <td>2</td>\n",
       "      <td>Chicago Bears</td>\n",
       "      <td>758</td>\n",
       "      <td>573</td>\n",
       "      <td>42</td>\n",
       "      <td>0.567</td>\n",
       "      <td>1920</td>\n",
       "      <td>1373</td>\n",
       "      <td>NFC North</td>\n",
       "    </tr>\n",
       "    <tr>\n",
       "      <th>2</th>\n",
       "      <td>3</td>\n",
       "      <td>Dallas Cowboys</td>\n",
       "      <td>514</td>\n",
       "      <td>392</td>\n",
       "      <td>6</td>\n",
       "      <td>0.567</td>\n",
       "      <td>1960</td>\n",
       "      <td>912</td>\n",
       "      <td>NFC East</td>\n",
       "    </tr>\n",
       "    <tr>\n",
       "      <th>3</th>\n",
       "      <td>4</td>\n",
       "      <td>Miami Dolphins</td>\n",
       "      <td>449</td>\n",
       "      <td>355</td>\n",
       "      <td>4</td>\n",
       "      <td>0.558</td>\n",
       "      <td>1966</td>\n",
       "      <td>808</td>\n",
       "      <td>AFC East</td>\n",
       "    </tr>\n",
       "    <tr>\n",
       "      <th>4</th>\n",
       "      <td>5</td>\n",
       "      <td>New England Patriots</td>\n",
       "      <td>490</td>\n",
       "      <td>399</td>\n",
       "      <td>9</td>\n",
       "      <td>0.551</td>\n",
       "      <td>1960</td>\n",
       "      <td>898</td>\n",
       "      <td>AFC East</td>\n",
       "    </tr>\n",
       "  </tbody>\n",
       "</table>\n",
       "</div>"
      ],
      "text/plain": [
       "   Rank                  Team  Won  Lost  Tied*   Pct.  First Season  \\\n",
       "0     1     Green Bay Packers  751   567     37  0.568          1921   \n",
       "1     2         Chicago Bears  758   573     42  0.567          1920   \n",
       "2     3        Dallas Cowboys  514   392      6  0.567          1960   \n",
       "3     4        Miami Dolphins  449   355      4  0.558          1966   \n",
       "4     5  New England Patriots  490   399      9  0.551          1960   \n",
       "\n",
       "   Total Games Conference  \n",
       "0         1355  NFC North  \n",
       "1         1373  NFC North  \n",
       "2          912   NFC East  \n",
       "3          808   AFC East  \n",
       "4          898   AFC East  "
      ]
     },
     "execution_count": 12,
     "metadata": {},
     "output_type": "execute_result"
    }
   ],
   "source": [
    "nfl_frame = pd.read_clipboard()\n",
    "nfl_frame"
   ]
  },
  {
   "cell_type": "code",
   "execution_count": 13,
   "metadata": {
    "collapsed": false
   },
   "outputs": [
    {
     "data": {
      "text/plain": [
       "Index([u'Rank', u'Team', u'Won', u'Lost', u'Tied*', u'Pct.', u'First Season',\n",
       "       u'Total Games', u'Conference'],\n",
       "      dtype='object')"
      ]
     },
     "execution_count": 13,
     "metadata": {},
     "output_type": "execute_result"
    }
   ],
   "source": [
    "nfl_frame.columns"
   ]
  },
  {
   "cell_type": "code",
   "execution_count": 14,
   "metadata": {
    "collapsed": false
   },
   "outputs": [
    {
     "data": {
      "text/plain": [
       "pandas.core.frame.DataFrame"
      ]
     },
     "execution_count": 14,
     "metadata": {},
     "output_type": "execute_result"
    }
   ],
   "source": [
    "type(nfl_frame)"
   ]
  },
  {
   "cell_type": "code",
   "execution_count": 15,
   "metadata": {
    "collapsed": false
   },
   "outputs": [
    {
     "data": {
      "text/plain": [
       "0    1921\n",
       "1    1920\n",
       "2    1960\n",
       "3    1966\n",
       "4    1960\n",
       "Name: First Season, dtype: int64"
      ]
     },
     "execution_count": 15,
     "metadata": {},
     "output_type": "execute_result"
    }
   ],
   "source": [
    "# column name is case-sensitive\n",
    "nfl_frame['First Season']"
   ]
  },
  {
   "cell_type": "code",
   "execution_count": 16,
   "metadata": {
    "collapsed": false
   },
   "outputs": [
    {
     "data": {
      "text/html": [
       "<div>\n",
       "<table border=\"1\" class=\"dataframe\">\n",
       "  <thead>\n",
       "    <tr style=\"text-align: right;\">\n",
       "      <th></th>\n",
       "      <th>Team</th>\n",
       "      <th>First Season</th>\n",
       "      <th>Total Games</th>\n",
       "    </tr>\n",
       "  </thead>\n",
       "  <tbody>\n",
       "    <tr>\n",
       "      <th>0</th>\n",
       "      <td>Green Bay Packers</td>\n",
       "      <td>1921</td>\n",
       "      <td>1355</td>\n",
       "    </tr>\n",
       "    <tr>\n",
       "      <th>1</th>\n",
       "      <td>Chicago Bears</td>\n",
       "      <td>1920</td>\n",
       "      <td>1373</td>\n",
       "    </tr>\n",
       "    <tr>\n",
       "      <th>2</th>\n",
       "      <td>Dallas Cowboys</td>\n",
       "      <td>1960</td>\n",
       "      <td>912</td>\n",
       "    </tr>\n",
       "    <tr>\n",
       "      <th>3</th>\n",
       "      <td>Miami Dolphins</td>\n",
       "      <td>1966</td>\n",
       "      <td>808</td>\n",
       "    </tr>\n",
       "    <tr>\n",
       "      <th>4</th>\n",
       "      <td>New England Patriots</td>\n",
       "      <td>1960</td>\n",
       "      <td>898</td>\n",
       "    </tr>\n",
       "  </tbody>\n",
       "</table>\n",
       "</div>"
      ],
      "text/plain": [
       "                   Team  First Season  Total Games\n",
       "0     Green Bay Packers          1921         1355\n",
       "1         Chicago Bears          1920         1373\n",
       "2        Dallas Cowboys          1960          912\n",
       "3        Miami Dolphins          1966          808\n",
       "4  New England Patriots          1960          898"
      ]
     },
     "execution_count": 16,
     "metadata": {},
     "output_type": "execute_result"
    }
   ],
   "source": [
    "# subsetting a data frame\n",
    "DataFrame(nfl_frame,columns=['Team','First Season','Total Games'])"
   ]
  },
  {
   "cell_type": "code",
   "execution_count": 18,
   "metadata": {
    "collapsed": false
   },
   "outputs": [
    {
     "data": {
      "text/html": [
       "<div>\n",
       "<table border=\"1\" class=\"dataframe\">\n",
       "  <thead>\n",
       "    <tr style=\"text-align: right;\">\n",
       "      <th></th>\n",
       "      <th>Team</th>\n",
       "      <th>First Season</th>\n",
       "      <th>Total Games</th>\n",
       "      <th>Stadium</th>\n",
       "    </tr>\n",
       "  </thead>\n",
       "  <tbody>\n",
       "    <tr>\n",
       "      <th>0</th>\n",
       "      <td>Green Bay Packers</td>\n",
       "      <td>1921</td>\n",
       "      <td>1355</td>\n",
       "      <td>NaN</td>\n",
       "    </tr>\n",
       "    <tr>\n",
       "      <th>1</th>\n",
       "      <td>Chicago Bears</td>\n",
       "      <td>1920</td>\n",
       "      <td>1373</td>\n",
       "      <td>NaN</td>\n",
       "    </tr>\n",
       "    <tr>\n",
       "      <th>2</th>\n",
       "      <td>Dallas Cowboys</td>\n",
       "      <td>1960</td>\n",
       "      <td>912</td>\n",
       "      <td>NaN</td>\n",
       "    </tr>\n",
       "    <tr>\n",
       "      <th>3</th>\n",
       "      <td>Miami Dolphins</td>\n",
       "      <td>1966</td>\n",
       "      <td>808</td>\n",
       "      <td>NaN</td>\n",
       "    </tr>\n",
       "    <tr>\n",
       "      <th>4</th>\n",
       "      <td>New England Patriots</td>\n",
       "      <td>1960</td>\n",
       "      <td>898</td>\n",
       "      <td>NaN</td>\n",
       "    </tr>\n",
       "  </tbody>\n",
       "</table>\n",
       "</div>"
      ],
      "text/plain": [
       "                   Team  First Season  Total Games  Stadium\n",
       "0     Green Bay Packers          1921         1355      NaN\n",
       "1         Chicago Bears          1920         1373      NaN\n",
       "2        Dallas Cowboys          1960          912      NaN\n",
       "3        Miami Dolphins          1966          808      NaN\n",
       "4  New England Patriots          1960          898      NaN"
      ]
     },
     "execution_count": 18,
     "metadata": {},
     "output_type": "execute_result"
    }
   ],
   "source": [
    "# subsetting a data frame; invalid Stadium column\n",
    "DataFrame(nfl_frame,columns=['Team','First Season','Total Games','Stadium'])"
   ]
  },
  {
   "cell_type": "code",
   "execution_count": 21,
   "metadata": {
    "collapsed": false
   },
   "outputs": [
    {
     "data": {
      "text/html": [
       "<div>\n",
       "<table border=\"1\" class=\"dataframe\">\n",
       "  <thead>\n",
       "    <tr style=\"text-align: right;\">\n",
       "      <th></th>\n",
       "      <th>Rank</th>\n",
       "      <th>Team</th>\n",
       "      <th>Won</th>\n",
       "      <th>Lost</th>\n",
       "      <th>Tied*</th>\n",
       "      <th>Pct.</th>\n",
       "      <th>First Season</th>\n",
       "      <th>Total Games</th>\n",
       "      <th>Conference</th>\n",
       "    </tr>\n",
       "  </thead>\n",
       "  <tbody>\n",
       "    <tr>\n",
       "      <th>0</th>\n",
       "      <td>1</td>\n",
       "      <td>Green Bay Packers</td>\n",
       "      <td>751</td>\n",
       "      <td>567</td>\n",
       "      <td>37</td>\n",
       "      <td>0.568</td>\n",
       "      <td>1921</td>\n",
       "      <td>1355</td>\n",
       "      <td>NFC North</td>\n",
       "    </tr>\n",
       "    <tr>\n",
       "      <th>1</th>\n",
       "      <td>2</td>\n",
       "      <td>Chicago Bears</td>\n",
       "      <td>758</td>\n",
       "      <td>573</td>\n",
       "      <td>42</td>\n",
       "      <td>0.567</td>\n",
       "      <td>1920</td>\n",
       "      <td>1373</td>\n",
       "      <td>NFC North</td>\n",
       "    </tr>\n",
       "    <tr>\n",
       "      <th>2</th>\n",
       "      <td>3</td>\n",
       "      <td>Dallas Cowboys</td>\n",
       "      <td>514</td>\n",
       "      <td>392</td>\n",
       "      <td>6</td>\n",
       "      <td>0.567</td>\n",
       "      <td>1960</td>\n",
       "      <td>912</td>\n",
       "      <td>NFC East</td>\n",
       "    </tr>\n",
       "  </tbody>\n",
       "</table>\n",
       "</div>"
      ],
      "text/plain": [
       "   Rank               Team  Won  Lost  Tied*   Pct.  First Season  \\\n",
       "0     1  Green Bay Packers  751   567     37  0.568          1921   \n",
       "1     2      Chicago Bears  758   573     42  0.567          1920   \n",
       "2     3     Dallas Cowboys  514   392      6  0.567          1960   \n",
       "\n",
       "   Total Games Conference  \n",
       "0         1355  NFC North  \n",
       "1         1373  NFC North  \n",
       "2          912   NFC East  "
      ]
     },
     "execution_count": 21,
     "metadata": {},
     "output_type": "execute_result"
    }
   ],
   "source": [
    "nfl_frame.head(3)"
   ]
  },
  {
   "cell_type": "code",
   "execution_count": 22,
   "metadata": {
    "collapsed": false
   },
   "outputs": [
    {
     "data": {
      "text/html": [
       "<div>\n",
       "<table border=\"1\" class=\"dataframe\">\n",
       "  <thead>\n",
       "    <tr style=\"text-align: right;\">\n",
       "      <th></th>\n",
       "      <th>Rank</th>\n",
       "      <th>Team</th>\n",
       "      <th>Won</th>\n",
       "      <th>Lost</th>\n",
       "      <th>Tied*</th>\n",
       "      <th>Pct.</th>\n",
       "      <th>First Season</th>\n",
       "      <th>Total Games</th>\n",
       "      <th>Conference</th>\n",
       "    </tr>\n",
       "  </thead>\n",
       "  <tbody>\n",
       "    <tr>\n",
       "      <th>2</th>\n",
       "      <td>3</td>\n",
       "      <td>Dallas Cowboys</td>\n",
       "      <td>514</td>\n",
       "      <td>392</td>\n",
       "      <td>6</td>\n",
       "      <td>0.567</td>\n",
       "      <td>1960</td>\n",
       "      <td>912</td>\n",
       "      <td>NFC East</td>\n",
       "    </tr>\n",
       "    <tr>\n",
       "      <th>3</th>\n",
       "      <td>4</td>\n",
       "      <td>Miami Dolphins</td>\n",
       "      <td>449</td>\n",
       "      <td>355</td>\n",
       "      <td>4</td>\n",
       "      <td>0.558</td>\n",
       "      <td>1966</td>\n",
       "      <td>808</td>\n",
       "      <td>AFC East</td>\n",
       "    </tr>\n",
       "    <tr>\n",
       "      <th>4</th>\n",
       "      <td>5</td>\n",
       "      <td>New England Patriots</td>\n",
       "      <td>490</td>\n",
       "      <td>399</td>\n",
       "      <td>9</td>\n",
       "      <td>0.551</td>\n",
       "      <td>1960</td>\n",
       "      <td>898</td>\n",
       "      <td>AFC East</td>\n",
       "    </tr>\n",
       "  </tbody>\n",
       "</table>\n",
       "</div>"
      ],
      "text/plain": [
       "   Rank                  Team  Won  Lost  Tied*   Pct.  First Season  \\\n",
       "2     3        Dallas Cowboys  514   392      6  0.567          1960   \n",
       "3     4        Miami Dolphins  449   355      4  0.558          1966   \n",
       "4     5  New England Patriots  490   399      9  0.551          1960   \n",
       "\n",
       "   Total Games Conference  \n",
       "2          912   NFC East  \n",
       "3          808   AFC East  \n",
       "4          898   AFC East  "
      ]
     },
     "execution_count": 22,
     "metadata": {},
     "output_type": "execute_result"
    }
   ],
   "source": [
    "nfl_frame.tail(3)"
   ]
  },
  {
   "cell_type": "code",
   "execution_count": 27,
   "metadata": {
    "collapsed": false
   },
   "outputs": [
    {
     "data": {
      "text/plain": [
       "Rank                         4\n",
       "Team            Miami Dolphins\n",
       "Won                        449\n",
       "Lost                       355\n",
       "Tied*                        4\n",
       "Pct.                     0.558\n",
       "First Season              1966\n",
       "Total Games                808\n",
       "Conference            AFC East\n",
       "Name: 3, dtype: object"
      ]
     },
     "execution_count": 27,
     "metadata": {},
     "output_type": "execute_result"
    }
   ],
   "source": [
    "# extract a particular row and pivot data\n",
    "nfl_frame.ix[3]"
   ]
  },
  {
   "cell_type": "code",
   "execution_count": 31,
   "metadata": {
    "collapsed": false
   },
   "outputs": [
    {
     "data": {
      "text/html": [
       "<div>\n",
       "<table border=\"1\" class=\"dataframe\">\n",
       "  <thead>\n",
       "    <tr style=\"text-align: right;\">\n",
       "      <th></th>\n",
       "      <th>Rank</th>\n",
       "      <th>Team</th>\n",
       "      <th>Won</th>\n",
       "      <th>Lost</th>\n",
       "      <th>Tied*</th>\n",
       "      <th>Pct.</th>\n",
       "      <th>First Season</th>\n",
       "      <th>Total Games</th>\n",
       "      <th>Conference</th>\n",
       "      <th>Stadium</th>\n",
       "    </tr>\n",
       "  </thead>\n",
       "  <tbody>\n",
       "    <tr>\n",
       "      <th>0</th>\n",
       "      <td>1</td>\n",
       "      <td>Green Bay Packers</td>\n",
       "      <td>751</td>\n",
       "      <td>567</td>\n",
       "      <td>37</td>\n",
       "      <td>0.568</td>\n",
       "      <td>1921</td>\n",
       "      <td>1355</td>\n",
       "      <td>NFC North</td>\n",
       "      <td>Green Bay Packers</td>\n",
       "    </tr>\n",
       "    <tr>\n",
       "      <th>1</th>\n",
       "      <td>2</td>\n",
       "      <td>Chicago Bears</td>\n",
       "      <td>758</td>\n",
       "      <td>573</td>\n",
       "      <td>42</td>\n",
       "      <td>0.567</td>\n",
       "      <td>1920</td>\n",
       "      <td>1373</td>\n",
       "      <td>NFC North</td>\n",
       "      <td>Chicago Bears</td>\n",
       "    </tr>\n",
       "    <tr>\n",
       "      <th>2</th>\n",
       "      <td>3</td>\n",
       "      <td>Dallas Cowboys</td>\n",
       "      <td>514</td>\n",
       "      <td>392</td>\n",
       "      <td>6</td>\n",
       "      <td>0.567</td>\n",
       "      <td>1960</td>\n",
       "      <td>912</td>\n",
       "      <td>NFC East</td>\n",
       "      <td>Dallas Cowboys</td>\n",
       "    </tr>\n",
       "    <tr>\n",
       "      <th>3</th>\n",
       "      <td>4</td>\n",
       "      <td>Miami Dolphins</td>\n",
       "      <td>449</td>\n",
       "      <td>355</td>\n",
       "      <td>4</td>\n",
       "      <td>0.558</td>\n",
       "      <td>1966</td>\n",
       "      <td>808</td>\n",
       "      <td>AFC East</td>\n",
       "      <td>Miami Dolphins</td>\n",
       "    </tr>\n",
       "    <tr>\n",
       "      <th>4</th>\n",
       "      <td>5</td>\n",
       "      <td>New England Patriots</td>\n",
       "      <td>490</td>\n",
       "      <td>399</td>\n",
       "      <td>9</td>\n",
       "      <td>0.551</td>\n",
       "      <td>1960</td>\n",
       "      <td>898</td>\n",
       "      <td>AFC East</td>\n",
       "      <td>New England Patriots</td>\n",
       "    </tr>\n",
       "  </tbody>\n",
       "</table>\n",
       "</div>"
      ],
      "text/plain": [
       "   Rank                  Team  Won  Lost  Tied*   Pct.  First Season  \\\n",
       "0     1     Green Bay Packers  751   567     37  0.568          1921   \n",
       "1     2         Chicago Bears  758   573     42  0.567          1920   \n",
       "2     3        Dallas Cowboys  514   392      6  0.567          1960   \n",
       "3     4        Miami Dolphins  449   355      4  0.558          1966   \n",
       "4     5  New England Patriots  490   399      9  0.551          1960   \n",
       "\n",
       "   Total Games Conference               Stadium  \n",
       "0         1355  NFC North     Green Bay Packers  \n",
       "1         1373  NFC North         Chicago Bears  \n",
       "2          912   NFC East        Dallas Cowboys  \n",
       "3          808   AFC East        Miami Dolphins  \n",
       "4          898   AFC East  New England Patriots  "
      ]
     },
     "execution_count": 31,
     "metadata": {},
     "output_type": "execute_result"
    }
   ],
   "source": [
    "nfl_frame['Stadium'] = nfl_frame['Team']\n",
    "nfl_frame"
   ]
  },
  {
   "cell_type": "code",
   "execution_count": 34,
   "metadata": {
    "collapsed": false
   },
   "outputs": [
    {
     "data": {
      "text/html": [
       "<div>\n",
       "<table border=\"1\" class=\"dataframe\">\n",
       "  <thead>\n",
       "    <tr style=\"text-align: right;\">\n",
       "      <th></th>\n",
       "      <th>Rank</th>\n",
       "      <th>Team</th>\n",
       "      <th>Won</th>\n",
       "      <th>Lost</th>\n",
       "      <th>Tied*</th>\n",
       "      <th>Pct.</th>\n",
       "      <th>First Season</th>\n",
       "      <th>Total Games</th>\n",
       "      <th>Conference</th>\n",
       "      <th>Stadium</th>\n",
       "    </tr>\n",
       "  </thead>\n",
       "  <tbody>\n",
       "    <tr>\n",
       "      <th>0</th>\n",
       "      <td>1</td>\n",
       "      <td>Green Bay Packers</td>\n",
       "      <td>751</td>\n",
       "      <td>567</td>\n",
       "      <td>37</td>\n",
       "      <td>0.568</td>\n",
       "      <td>1921</td>\n",
       "      <td>1355</td>\n",
       "      <td>NFC North</td>\n",
       "      <td>0</td>\n",
       "    </tr>\n",
       "    <tr>\n",
       "      <th>1</th>\n",
       "      <td>2</td>\n",
       "      <td>Chicago Bears</td>\n",
       "      <td>758</td>\n",
       "      <td>573</td>\n",
       "      <td>42</td>\n",
       "      <td>0.567</td>\n",
       "      <td>1920</td>\n",
       "      <td>1373</td>\n",
       "      <td>NFC North</td>\n",
       "      <td>1</td>\n",
       "    </tr>\n",
       "    <tr>\n",
       "      <th>2</th>\n",
       "      <td>3</td>\n",
       "      <td>Dallas Cowboys</td>\n",
       "      <td>514</td>\n",
       "      <td>392</td>\n",
       "      <td>6</td>\n",
       "      <td>0.567</td>\n",
       "      <td>1960</td>\n",
       "      <td>912</td>\n",
       "      <td>NFC East</td>\n",
       "      <td>2</td>\n",
       "    </tr>\n",
       "    <tr>\n",
       "      <th>3</th>\n",
       "      <td>4</td>\n",
       "      <td>Miami Dolphins</td>\n",
       "      <td>449</td>\n",
       "      <td>355</td>\n",
       "      <td>4</td>\n",
       "      <td>0.558</td>\n",
       "      <td>1966</td>\n",
       "      <td>808</td>\n",
       "      <td>AFC East</td>\n",
       "      <td>3</td>\n",
       "    </tr>\n",
       "    <tr>\n",
       "      <th>4</th>\n",
       "      <td>5</td>\n",
       "      <td>New England Patriots</td>\n",
       "      <td>490</td>\n",
       "      <td>399</td>\n",
       "      <td>9</td>\n",
       "      <td>0.551</td>\n",
       "      <td>1960</td>\n",
       "      <td>898</td>\n",
       "      <td>AFC East</td>\n",
       "      <td>4</td>\n",
       "    </tr>\n",
       "  </tbody>\n",
       "</table>\n",
       "</div>"
      ],
      "text/plain": [
       "   Rank                  Team  Won  Lost  Tied*   Pct.  First Season  \\\n",
       "0     1     Green Bay Packers  751   567     37  0.568          1921   \n",
       "1     2         Chicago Bears  758   573     42  0.567          1920   \n",
       "2     3        Dallas Cowboys  514   392      6  0.567          1960   \n",
       "3     4        Miami Dolphins  449   355      4  0.558          1966   \n",
       "4     5  New England Patriots  490   399      9  0.551          1960   \n",
       "\n",
       "   Total Games Conference  Stadium  \n",
       "0         1355  NFC North        0  \n",
       "1         1373  NFC North        1  \n",
       "2          912   NFC East        2  \n",
       "3          808   AFC East        3  \n",
       "4          898   AFC East        4  "
      ]
     },
     "execution_count": 34,
     "metadata": {},
     "output_type": "execute_result"
    }
   ],
   "source": [
    "nfl_frame['Stadium'] = np.arange(5)\n",
    "nfl_frame"
   ]
  },
  {
   "cell_type": "code",
   "execution_count": 40,
   "metadata": {
    "collapsed": false
   },
   "outputs": [
    {
     "data": {
      "text/plain": [
       "0     Lambeau Field\n",
       "1    Soldiers Field\n",
       "2             Texas\n",
       "3       Orange Bowl\n",
       "4          Gillette\n",
       "dtype: object"
      ]
     },
     "execution_count": 40,
     "metadata": {},
     "output_type": "execute_result"
    }
   ],
   "source": [
    "stadiums = Series(['Lambeau Field','Soldiers Field','Texas','Orange Bowl','Gillette'],index=[0,1,2,3,4])\n",
    "stadiums"
   ]
  },
  {
   "cell_type": "code",
   "execution_count": 41,
   "metadata": {
    "collapsed": true
   },
   "outputs": [],
   "source": [
    "nfl_frame['Stadium'] = stadiums"
   ]
  },
  {
   "cell_type": "code",
   "execution_count": 42,
   "metadata": {
    "collapsed": false
   },
   "outputs": [
    {
     "data": {
      "text/html": [
       "<div>\n",
       "<table border=\"1\" class=\"dataframe\">\n",
       "  <thead>\n",
       "    <tr style=\"text-align: right;\">\n",
       "      <th></th>\n",
       "      <th>Rank</th>\n",
       "      <th>Team</th>\n",
       "      <th>Won</th>\n",
       "      <th>Lost</th>\n",
       "      <th>Tied*</th>\n",
       "      <th>Pct.</th>\n",
       "      <th>First Season</th>\n",
       "      <th>Total Games</th>\n",
       "      <th>Conference</th>\n",
       "      <th>Stadium</th>\n",
       "    </tr>\n",
       "  </thead>\n",
       "  <tbody>\n",
       "    <tr>\n",
       "      <th>0</th>\n",
       "      <td>1</td>\n",
       "      <td>Green Bay Packers</td>\n",
       "      <td>751</td>\n",
       "      <td>567</td>\n",
       "      <td>37</td>\n",
       "      <td>0.568</td>\n",
       "      <td>1921</td>\n",
       "      <td>1355</td>\n",
       "      <td>NFC North</td>\n",
       "      <td>Lambeau Field</td>\n",
       "    </tr>\n",
       "    <tr>\n",
       "      <th>1</th>\n",
       "      <td>2</td>\n",
       "      <td>Chicago Bears</td>\n",
       "      <td>758</td>\n",
       "      <td>573</td>\n",
       "      <td>42</td>\n",
       "      <td>0.567</td>\n",
       "      <td>1920</td>\n",
       "      <td>1373</td>\n",
       "      <td>NFC North</td>\n",
       "      <td>Soldiers Field</td>\n",
       "    </tr>\n",
       "    <tr>\n",
       "      <th>2</th>\n",
       "      <td>3</td>\n",
       "      <td>Dallas Cowboys</td>\n",
       "      <td>514</td>\n",
       "      <td>392</td>\n",
       "      <td>6</td>\n",
       "      <td>0.567</td>\n",
       "      <td>1960</td>\n",
       "      <td>912</td>\n",
       "      <td>NFC East</td>\n",
       "      <td>Texas</td>\n",
       "    </tr>\n",
       "    <tr>\n",
       "      <th>3</th>\n",
       "      <td>4</td>\n",
       "      <td>Miami Dolphins</td>\n",
       "      <td>449</td>\n",
       "      <td>355</td>\n",
       "      <td>4</td>\n",
       "      <td>0.558</td>\n",
       "      <td>1966</td>\n",
       "      <td>808</td>\n",
       "      <td>AFC East</td>\n",
       "      <td>Orange Bowl</td>\n",
       "    </tr>\n",
       "    <tr>\n",
       "      <th>4</th>\n",
       "      <td>5</td>\n",
       "      <td>New England Patriots</td>\n",
       "      <td>490</td>\n",
       "      <td>399</td>\n",
       "      <td>9</td>\n",
       "      <td>0.551</td>\n",
       "      <td>1960</td>\n",
       "      <td>898</td>\n",
       "      <td>AFC East</td>\n",
       "      <td>Gillette</td>\n",
       "    </tr>\n",
       "  </tbody>\n",
       "</table>\n",
       "</div>"
      ],
      "text/plain": [
       "   Rank                  Team  Won  Lost  Tied*   Pct.  First Season  \\\n",
       "0     1     Green Bay Packers  751   567     37  0.568          1921   \n",
       "1     2         Chicago Bears  758   573     42  0.567          1920   \n",
       "2     3        Dallas Cowboys  514   392      6  0.567          1960   \n",
       "3     4        Miami Dolphins  449   355      4  0.558          1966   \n",
       "4     5  New England Patriots  490   399      9  0.551          1960   \n",
       "\n",
       "   Total Games Conference         Stadium  \n",
       "0         1355  NFC North   Lambeau Field  \n",
       "1         1373  NFC North  Soldiers Field  \n",
       "2          912   NFC East           Texas  \n",
       "3          808   AFC East     Orange Bowl  \n",
       "4          898   AFC East        Gillette  "
      ]
     },
     "execution_count": 42,
     "metadata": {},
     "output_type": "execute_result"
    }
   ],
   "source": [
    "nfl_frame"
   ]
  },
  {
   "cell_type": "code",
   "execution_count": 43,
   "metadata": {
    "collapsed": false
   },
   "outputs": [
    {
     "data": {
      "text/html": [
       "<div>\n",
       "<table border=\"1\" class=\"dataframe\">\n",
       "  <thead>\n",
       "    <tr style=\"text-align: right;\">\n",
       "      <th></th>\n",
       "      <th>Rank</th>\n",
       "      <th>Team</th>\n",
       "      <th>Won</th>\n",
       "      <th>Lost</th>\n",
       "      <th>Tied*</th>\n",
       "      <th>Pct.</th>\n",
       "      <th>First Season</th>\n",
       "      <th>Total Games</th>\n",
       "      <th>Conference</th>\n",
       "    </tr>\n",
       "  </thead>\n",
       "  <tbody>\n",
       "    <tr>\n",
       "      <th>0</th>\n",
       "      <td>1</td>\n",
       "      <td>Green Bay Packers</td>\n",
       "      <td>751</td>\n",
       "      <td>567</td>\n",
       "      <td>37</td>\n",
       "      <td>0.568</td>\n",
       "      <td>1921</td>\n",
       "      <td>1355</td>\n",
       "      <td>NFC North</td>\n",
       "    </tr>\n",
       "    <tr>\n",
       "      <th>1</th>\n",
       "      <td>2</td>\n",
       "      <td>Chicago Bears</td>\n",
       "      <td>758</td>\n",
       "      <td>573</td>\n",
       "      <td>42</td>\n",
       "      <td>0.567</td>\n",
       "      <td>1920</td>\n",
       "      <td>1373</td>\n",
       "      <td>NFC North</td>\n",
       "    </tr>\n",
       "    <tr>\n",
       "      <th>2</th>\n",
       "      <td>3</td>\n",
       "      <td>Dallas Cowboys</td>\n",
       "      <td>514</td>\n",
       "      <td>392</td>\n",
       "      <td>6</td>\n",
       "      <td>0.567</td>\n",
       "      <td>1960</td>\n",
       "      <td>912</td>\n",
       "      <td>NFC East</td>\n",
       "    </tr>\n",
       "    <tr>\n",
       "      <th>3</th>\n",
       "      <td>4</td>\n",
       "      <td>Miami Dolphins</td>\n",
       "      <td>449</td>\n",
       "      <td>355</td>\n",
       "      <td>4</td>\n",
       "      <td>0.558</td>\n",
       "      <td>1966</td>\n",
       "      <td>808</td>\n",
       "      <td>AFC East</td>\n",
       "    </tr>\n",
       "    <tr>\n",
       "      <th>4</th>\n",
       "      <td>5</td>\n",
       "      <td>New England Patriots</td>\n",
       "      <td>490</td>\n",
       "      <td>399</td>\n",
       "      <td>9</td>\n",
       "      <td>0.551</td>\n",
       "      <td>1960</td>\n",
       "      <td>898</td>\n",
       "      <td>AFC East</td>\n",
       "    </tr>\n",
       "  </tbody>\n",
       "</table>\n",
       "</div>"
      ],
      "text/plain": [
       "   Rank                  Team  Won  Lost  Tied*   Pct.  First Season  \\\n",
       "0     1     Green Bay Packers  751   567     37  0.568          1921   \n",
       "1     2         Chicago Bears  758   573     42  0.567          1920   \n",
       "2     3        Dallas Cowboys  514   392      6  0.567          1960   \n",
       "3     4        Miami Dolphins  449   355      4  0.558          1966   \n",
       "4     5  New England Patriots  490   399      9  0.551          1960   \n",
       "\n",
       "   Total Games Conference  \n",
       "0         1355  NFC North  \n",
       "1         1373  NFC North  \n",
       "2          912   NFC East  \n",
       "3          808   AFC East  \n",
       "4          898   AFC East  "
      ]
     },
     "execution_count": 43,
     "metadata": {},
     "output_type": "execute_result"
    }
   ],
   "source": [
    "del nfl_frame['Stadium']\n",
    "nfl_frame"
   ]
  },
  {
   "cell_type": "code",
   "execution_count": 47,
   "metadata": {
    "collapsed": false
   },
   "outputs": [
    {
     "data": {
      "text/html": [
       "<div>\n",
       "<table border=\"1\" class=\"dataframe\">\n",
       "  <thead>\n",
       "    <tr style=\"text-align: right;\">\n",
       "      <th></th>\n",
       "      <th>City</th>\n",
       "    </tr>\n",
       "  </thead>\n",
       "  <tbody>\n",
       "    <tr>\n",
       "      <th>0</th>\n",
       "      <td>Green Bay</td>\n",
       "    </tr>\n",
       "    <tr>\n",
       "      <th>1</th>\n",
       "      <td>Chicago</td>\n",
       "    </tr>\n",
       "    <tr>\n",
       "      <th>2</th>\n",
       "      <td>Dallas</td>\n",
       "    </tr>\n",
       "    <tr>\n",
       "      <th>3</th>\n",
       "      <td>Miami</td>\n",
       "    </tr>\n",
       "    <tr>\n",
       "      <th>4</th>\n",
       "      <td>New England Patrios</td>\n",
       "    </tr>\n",
       "  </tbody>\n",
       "</table>\n",
       "</div>"
      ],
      "text/plain": [
       "                  City\n",
       "0            Green Bay\n",
       "1              Chicago\n",
       "2               Dallas\n",
       "3                Miami\n",
       "4  New England Patrios"
      ]
     },
     "execution_count": 47,
     "metadata": {},
     "output_type": "execute_result"
    }
   ],
   "source": [
    "# construct data frame from dictionary\n",
    "data = {'City':['Green Bay','Chicago','Dallas','Miami','New England Patrios']}\n",
    "city_frame = DataFrame(data)\n",
    "city_frame"
   ]
  },
  {
   "cell_type": "code",
   "execution_count": null,
   "metadata": {
    "collapsed": true
   },
   "outputs": [],
   "source": []
  }
 ],
 "metadata": {
  "kernelspec": {
   "display_name": "Python 2",
   "language": "python",
   "name": "python2"
  },
  "language_info": {
   "codemirror_mode": {
    "name": "ipython",
    "version": 2
   },
   "file_extension": ".py",
   "mimetype": "text/x-python",
   "name": "python",
   "nbconvert_exporter": "python",
   "pygments_lexer": "ipython2",
   "version": "2.7.11"
  }
 },
 "nbformat": 4,
 "nbformat_minor": 0
}
